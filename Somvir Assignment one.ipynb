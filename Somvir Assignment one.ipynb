{
 "cells": [
  {
   "cell_type": "markdown",
   "id": "6ad9220e",
   "metadata": {},
   "source": [
    "# Ans One "
   ]
  },
  {
   "cell_type": "markdown",
   "id": "19eab13e",
   "metadata": {},
   "source": [
    "## ANS 1"
   ]
  },
  {
   "cell_type": "code",
   "execution_count": 3,
   "id": "5d95a2a5",
   "metadata": {},
   "outputs": [
    {
     "data": {
      "text/plain": [
       "((1, 2), (3, 4))"
      ]
     },
     "execution_count": 3,
     "metadata": {},
     "output_type": "execute_result"
    }
   ],
   "source": [
    "data_tuple=((1,2),(3,4))\n",
    "data_tuple\n"
   ]
  },
  {
   "cell_type": "code",
   "execution_count": 4,
   "id": "28ba8cd2",
   "metadata": {},
   "outputs": [
    {
     "data": {
      "text/plain": [
       "tuple"
      ]
     },
     "execution_count": 4,
     "metadata": {},
     "output_type": "execute_result"
    }
   ],
   "source": [
    "type(data_tuple)"
   ]
  },
  {
   "cell_type": "markdown",
   "id": "8fc6ded6",
   "metadata": {},
   "source": [
    "# ANS 2"
   ]
  },
  {
   "cell_type": "code",
   "execution_count": 16,
   "id": "8e1b158e",
   "metadata": {},
   "outputs": [
    {
     "name": "stdout",
     "output_type": "stream",
     "text": [
      "[4, 3, 2, 1]\n"
     ]
    },
    {
     "data": {
      "text/plain": [
       "list"
      ]
     },
     "execution_count": 16,
     "metadata": {},
     "output_type": "execute_result"
    }
   ],
   "source": [
    "list=[4,3,2,1]\n",
    "print(list)\n",
    "type(list)"
   ]
  },
  {
   "cell_type": "markdown",
   "id": "2dd40a9f",
   "metadata": {},
   "source": [
    "# ANS 3"
   ]
  },
  {
   "cell_type": "code",
   "execution_count": 19,
   "id": "f87cf3a3",
   "metadata": {},
   "outputs": [
    {
     "name": "stdout",
     "output_type": "stream",
     "text": [
      "[4, 3, 2, 1]\n"
     ]
    }
   ],
   "source": [
    "list_copy=list[:]\n",
    "print(list_copy)"
   ]
  },
  {
   "cell_type": "markdown",
   "id": "8733a72e",
   "metadata": {},
   "source": [
    "# ANS 4"
   ]
  },
  {
   "cell_type": "code",
   "execution_count": 20,
   "id": "032fd75a",
   "metadata": {},
   "outputs": [
    {
     "name": "stdout",
     "output_type": "stream",
     "text": [
      "None\n",
      "[1, 2, 3, 4]\n"
     ]
    }
   ],
   "source": [
    "print(list.sort())\n",
    "print(list)"
   ]
  },
  {
   "cell_type": "markdown",
   "id": "b60e793a",
   "metadata": {},
   "source": [
    "# ANS 5"
   ]
  },
  {
   "cell_type": "code",
   "execution_count": 22,
   "id": "1a12744b",
   "metadata": {},
   "outputs": [],
   "source": [
    "cardinal_numbers = (\"first\", \"second\", \"third\")"
   ]
  },
  {
   "cell_type": "markdown",
   "id": "6660a826",
   "metadata": {},
   "source": [
    "# ANS 6"
   ]
  },
  {
   "cell_type": "code",
   "execution_count": 23,
   "id": "83305114",
   "metadata": {},
   "outputs": [
    {
     "name": "stdout",
     "output_type": "stream",
     "text": [
      "second\n"
     ]
    }
   ],
   "source": [
    "print(cardinal_numbers[1])\n"
   ]
  },
  {
   "cell_type": "markdown",
   "id": "3b8e638d",
   "metadata": {},
   "source": [
    "# ANS 7"
   ]
  },
  {
   "cell_type": "code",
   "execution_count": 24,
   "id": "89352621",
   "metadata": {},
   "outputs": [
    {
     "name": "stdout",
     "output_type": "stream",
     "text": [
      "first\n",
      "second\n",
      "third\n"
     ]
    }
   ],
   "source": [
    "position1, position2, position3 = cardinal_numbers\n",
    "print(position1)\n",
    "print(position2)\n",
    "print(position3)"
   ]
  },
  {
   "cell_type": "markdown",
   "id": "61df1b58",
   "metadata": {},
   "source": [
    "# ANS 8"
   ]
  },
  {
   "cell_type": "code",
   "execution_count": 26,
   "id": "b3af7adc",
   "metadata": {},
   "outputs": [],
   "source": [
    "my_name = tuple(\"Somvir\")"
   ]
  },
  {
   "cell_type": "markdown",
   "id": "391a513e",
   "metadata": {},
   "source": [
    "# ANS9"
   ]
  },
  {
   "cell_type": "code",
   "execution_count": 27,
   "id": "db7056be",
   "metadata": {},
   "outputs": [
    {
     "name": "stdout",
     "output_type": "stream",
     "text": [
      "False\n"
     ]
    }
   ],
   "source": [
    "print(\"x\" in my_name)"
   ]
  },
  {
   "cell_type": "markdown",
   "id": "66666e04",
   "metadata": {},
   "source": [
    "# ANS 10"
   ]
  },
  {
   "cell_type": "code",
   "execution_count": 29,
   "id": "b58b2e15",
   "metadata": {},
   "outputs": [
    {
     "name": "stdout",
     "output_type": "stream",
     "text": [
      "True\n"
     ]
    }
   ],
   "source": [
    "print(\"S\" in my_name)"
   ]
  }
 ],
 "metadata": {
  "kernelspec": {
   "display_name": "Python 3 (ipykernel)",
   "language": "python",
   "name": "python3"
  },
  "language_info": {
   "codemirror_mode": {
    "name": "ipython",
    "version": 3
   },
   "file_extension": ".py",
   "mimetype": "text/x-python",
   "name": "python",
   "nbconvert_exporter": "python",
   "pygments_lexer": "ipython3",
   "version": "3.10.9"
  }
 },
 "nbformat": 4,
 "nbformat_minor": 5
}
